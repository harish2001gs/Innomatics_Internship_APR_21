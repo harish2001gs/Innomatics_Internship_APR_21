{
 "cells": [
  {
   "cell_type": "code",
   "execution_count": null,
   "metadata": {},
   "outputs": [],
   "source": [
    "#Question1"
   ]
  },
  {
   "cell_type": "code",
   "execution_count": null,
   "metadata": {},
   "outputs": [],
   "source": [
    "x = int(input())\n",
    "y = int(input())\n",
    "z = int(input())\n",
    "n = int(input())\n",
    "    \n",
    "array=[\n",
    "       [a,b,c] for a in range(x+1) for b in range(y+1) for c in range(z+1)\n",
    "       if a+b+c!=n\n",
    "      ]\n",
    "print(array)"
   ]
  },
  {
   "cell_type": "code",
   "execution_count": null,
   "metadata": {},
   "outputs": [],
   "source": [
    "#Question2"
   ]
  },
  {
   "cell_type": "code",
   "execution_count": null,
   "metadata": {},
   "outputs": [],
   "source": [
    "n = int(input())\n",
    "arr = map(int,input().split())\n",
    "second_large=sorted(list(set(arr)))\n",
    "print(second_large[-2])"
   ]
  },
  {
   "cell_type": "code",
   "execution_count": null,
   "metadata": {},
   "outputs": [],
   "source": [
    "#Question3"
   ]
  },
  {
   "cell_type": "code",
   "execution_count": null,
   "metadata": {},
   "outputs": [],
   "source": [
    "grade = [];\n",
    "for _ in range(int(input())):\n",
    "    name = input()\n",
    "    score = float(input())\n",
    "    grade.append([name, score])\n",
    "second_highest = sorted(set([score for name, score in grade]))[1]\n",
    "print('\\n'.join(sorted([name for name, score in grade if score == second_highest])))"
   ]
  },
  {
   "cell_type": "code",
   "execution_count": null,
   "metadata": {},
   "outputs": [],
   "source": [
    "#Question4"
   ]
  },
  {
   "cell_type": "code",
   "execution_count": null,
   "metadata": {},
   "outputs": [],
   "source": [
    "n = int(input())\n",
    "student_marks = {}\n",
    "for _ in range(n):\n",
    "        line = input().split()\n",
    "        name, scores = line[0], line[1:]\n",
    "        scores = map(float, scores)\n",
    "        student_marks[name] = scores\n",
    "query_name = input()\n",
    "a=list(student_marks[query_name])\n",
    "length=len(a)\n",
    "sum_of_marks=sum(a)\n",
    "avg=sum_of_marks/length\n",
    "print('%.2f'%avg)"
   ]
  },
  {
   "cell_type": "code",
   "execution_count": null,
   "metadata": {},
   "outputs": [],
   "source": [
    "#Question5"
   ]
  },
  {
   "cell_type": "code",
   "execution_count": null,
   "metadata": {},
   "outputs": [],
   "source": [
    "N = int(input())\n",
    "lists=[]\n",
    "for i in range(N):\n",
    "    ip = input().split()\n",
    "    if ip[0]==\"remove\":\n",
    "     lists.remove(int(ip[1]))\n",
    "    elif ip[0]==\"insert\":\n",
    "     lists.insert(int(ip[1]),int(ip[2]))\n",
    "    elif ip[0]==\"append\":\n",
    "     lists.append(int(ip[1]))\n",
    "    elif ip[0]==\"pop\":\n",
    "     lists.pop()\n",
    "    elif ip[0]==\"sort\":\n",
    "     lists.sort()\n",
    "    elif ip[0]==\"reverse\":\n",
    "     lists.reverse()\n",
    "    elif ip[0]==\"print\":\n",
    "      print(lists)"
   ]
  },
  {
   "cell_type": "code",
   "execution_count": null,
   "metadata": {},
   "outputs": [],
   "source": [
    "#Question6"
   ]
  },
  {
   "cell_type": "code",
   "execution_count": null,
   "metadata": {},
   "outputs": [],
   "source": [
    "n = int(input())\n",
    "integer_list = tuple(map(int,input().split()))\n",
    "print(hash(integer_list))"
   ]
  },
  {
   "cell_type": "code",
   "execution_count": null,
   "metadata": {},
   "outputs": [],
   "source": [
    "#Question7"
   ]
  },
  {
   "cell_type": "code",
   "execution_count": null,
   "metadata": {},
   "outputs": [],
   "source": [
    "from __future__ import division\n",
    "def average(array):\n",
    "   avg=sum(set(array))/len(set(array))\n",
    "   return avg\n",
    "\n",
    "if __name__ == '__main__':\n",
    "\n",
    " n = int(input())\n",
    " arr = map(int,input().split())\n",
    " result = average(arr)\n",
    " print(result)"
   ]
  },
  {
   "cell_type": "code",
   "execution_count": null,
   "metadata": {},
   "outputs": [],
   "source": [
    "#Question8"
   ]
  },
  {
   "cell_type": "code",
   "execution_count": null,
   "metadata": {},
   "outputs": [],
   "source": [
    "num = list(map(int,input().split()))\n",
    "Array = list(map(int,input().split()))\n",
    "A = set(map(int,input().split()))\n",
    "B = set(map(int,input().split()))\n",
    "h = 0\n",
    "for i in Array:\n",
    "    if i in A :   \n",
    "              h = h + 1\n",
    "    elif i in B : \n",
    "              h = h - 1\n",
    "print(h)"
   ]
  },
  {
   "cell_type": "code",
   "execution_count": null,
   "metadata": {},
   "outputs": [],
   "source": [
    "#Question9"
   ]
  },
  {
   "cell_type": "code",
   "execution_count": null,
   "metadata": {},
   "outputs": [],
   "source": [
    "a=input()\n",
    "m=set(map(int,input().split()))\n",
    "b=input()\n",
    "n=set(map(int,input().split()))\n",
    "for i in sorted(m ^ n):\n",
    "        print(i)"
   ]
  },
  {
   "cell_type": "code",
   "execution_count": null,
   "metadata": {},
   "outputs": [],
   "source": [
    "#Question10"
   ]
  },
  {
   "cell_type": "code",
   "execution_count": null,
   "metadata": {},
   "outputs": [],
   "source": [
    "N=int(input())\n",
    "P=set()\n",
    "for i in range(N):\n",
    "    P.add(input())\n",
    "print(len(P))"
   ]
  },
  {
   "cell_type": "code",
   "execution_count": null,
   "metadata": {},
   "outputs": [],
   "source": [
    "#Question11"
   ]
  },
  {
   "cell_type": "code",
   "execution_count": null,
   "metadata": {},
   "outputs": [],
   "source": [
    "n = int(input())\n",
    "s = set(map(int,input().split()))\n",
    "num = int(input())\n",
    "for i in range(num):\n",
    "    ip = input().split()\n",
    "    if ip[0]==\"remove\":\n",
    "        s.remove(int(ip[1]))\n",
    "    elif ip[0]==\"discard\":\n",
    "        s.discard(int(ip[1]))\n",
    "    else :\n",
    "        s.pop()\n",
    "print(sum(list(s)))"
   ]
  },
  {
   "cell_type": "code",
   "execution_count": null,
   "metadata": {},
   "outputs": [],
   "source": [
    "#Question12"
   ]
  },
  {
   "cell_type": "code",
   "execution_count": null,
   "metadata": {},
   "outputs": [],
   "source": [
    "a = input()\n",
    "first = set(map(int,input().split()))\n",
    "b = input()\n",
    "second = set(map(int,input().split()))\n",
    "\n",
    "Union = first.union(second)\n",
    "print(len(Union))"
   ]
  },
  {
   "cell_type": "code",
   "execution_count": null,
   "metadata": {},
   "outputs": [],
   "source": [
    "#Question13"
   ]
  },
  {
   "cell_type": "code",
   "execution_count": null,
   "metadata": {},
   "outputs": [],
   "source": [
    "a=input()\n",
    "stu_1=set(map(int,input().split()))\n",
    "b=input()\n",
    "stu_2=set(map(int,input().split()))\n",
    "common=stu_1.intersection(stu_2)\n",
    "print(len(common))"
   ]
  },
  {
   "cell_type": "code",
   "execution_count": null,
   "metadata": {},
   "outputs": [],
   "source": [
    "#Question14"
   ]
  },
  {
   "cell_type": "code",
   "execution_count": null,
   "metadata": {},
   "outputs": [],
   "source": [
    "p=input()\n",
    "eng=set(map(int,input().split()))\n",
    "q=input()\n",
    "fre=set(map(int,input().split()))\n",
    "only_eng=eng.difference(fre)\n",
    "print(len(only_eng))"
   ]
  },
  {
   "cell_type": "code",
   "execution_count": null,
   "metadata": {},
   "outputs": [],
   "source": [
    "#Question15"
   ]
  },
  {
   "cell_type": "code",
   "execution_count": null,
   "metadata": {},
   "outputs": [],
   "source": [
    "d=input()\n",
    "eng=set(map(int,input().split()))\n",
    "e=input()\n",
    "fre=set(map(int,input().split()))\n",
    "eng_or_fre=eng^fre\n",
    "print(len(eng_or_fre))"
   ]
  },
  {
   "cell_type": "code",
   "execution_count": null,
   "metadata": {},
   "outputs": [],
   "source": [
    "#Question16"
   ]
  },
  {
   "cell_type": "code",
   "execution_count": null,
   "metadata": {},
   "outputs": [],
   "source": [
    "a = int(input())\n",
    "b = set(map(int, input().split()))\n",
    "for i in range(int(input())):\n",
    "    p,q= input().split()\n",
    "    c= set(map(int, input().split()))\n",
    "    if p == 'intersection_update':\n",
    "        b&=c\n",
    "    elif p == 'update':\n",
    "        b|=c\n",
    "    elif p == 'symmetric_difference_update':\n",
    "        b^=c\n",
    "    else:\n",
    "        b-=c\n",
    "print(sum(b))"
   ]
  },
  {
   "cell_type": "code",
   "execution_count": null,
   "metadata": {},
   "outputs": [],
   "source": [
    "#Question17"
   ]
  },
  {
   "cell_type": "code",
   "execution_count": null,
   "metadata": {},
   "outputs": [],
   "source": [
    "num = int(input())\n",
    "roomlist = list(map(int,input().split()))\n",
    "roomset = set(roomlist)\n",
    "roomlist_sum = sum(roomlist)\n",
    "roomset_sum = sum(roomset) * num\n",
    "remaining = roomset_sum - roomlist_sum\n",
    "for i in roomset:\n",
    "    if remaining == ((num-1)*i):\n",
    "     print(i)"
   ]
  },
  {
   "cell_type": "code",
   "execution_count": null,
   "metadata": {},
   "outputs": [],
   "source": [
    "#Question18"
   ]
  },
  {
   "cell_type": "code",
   "execution_count": null,
   "metadata": {},
   "outputs": [],
   "source": [
    "for i in range(int(input())):\n",
    " b1=int(input())\n",
    " c1=set(map(int,input().split()))\n",
    " b2=int(input())\n",
    " c2=set(map(int,input().split()))\n",
    " if(c1<=c2):\n",
    "     print (\"True\")\n",
    " else:\n",
    "     print (\"False\")"
   ]
  },
  {
   "cell_type": "code",
   "execution_count": null,
   "metadata": {},
   "outputs": [],
   "source": [
    "#Question19"
   ]
  },
  {
   "cell_type": "code",
   "execution_count": null,
   "metadata": {},
   "outputs": [],
   "source": [
    "a=set(map(int,input().split()))\n",
    "n=int(input())\n",
    "result=\"True\"\n",
    "for i in range(n):\n",
    " b=set(map(int,input().split()))\n",
    " if not b<=a:\n",
    "  result=\"False\"\n",
    " \n",
    "print(result)"
   ]
  }
 ],
 "metadata": {
  "kernelspec": {
   "display_name": "Python 3",
   "language": "python",
   "name": "python3"
  },
  "language_info": {
   "codemirror_mode": {
    "name": "ipython",
    "version": 3
   },
   "file_extension": ".py",
   "mimetype": "text/x-python",
   "name": "python",
   "nbconvert_exporter": "python",
   "pygments_lexer": "ipython3",
   "version": "3.7.6"
  }
 },
 "nbformat": 4,
 "nbformat_minor": 4
}
