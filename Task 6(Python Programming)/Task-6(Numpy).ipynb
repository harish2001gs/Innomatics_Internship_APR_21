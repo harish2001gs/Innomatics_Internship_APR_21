{
 "cells": [
  {
   "cell_type": "code",
   "execution_count": null,
   "metadata": {},
   "outputs": [],
   "source": [
    "#Question1"
   ]
  },
  {
   "cell_type": "code",
   "execution_count": null,
   "metadata": {},
   "outputs": [],
   "source": [
    "import numpy\n",
    "\n",
    "def arrays(arr):\n",
    "    a=numpy.array(arr[::-1],float)# complete this function\n",
    "    return a# use numpy.array\n",
    "\n",
    "arr = input().strip().split(' ')\n",
    "result = arrays(arr)\n",
    "print(result)"
   ]
  },
  {
   "cell_type": "code",
   "execution_count": null,
   "metadata": {},
   "outputs": [],
   "source": [
    "#Question2"
   ]
  },
  {
   "cell_type": "code",
   "execution_count": null,
   "metadata": {},
   "outputs": [],
   "source": [
    "arr=numpy.array(list(map(int,input().split())))\n",
    "arr.shape=(3,3)\n",
    "print(arr)"
   ]
  },
  {
   "cell_type": "code",
   "execution_count": null,
   "metadata": {},
   "outputs": [],
   "source": [
    "#Question3"
   ]
  },
  {
   "cell_type": "code",
   "execution_count": null,
   "metadata": {},
   "outputs": [],
   "source": [
    "\n",
    "a,b=map(int,input().split())\n",
    "arr=numpy.array([input().split() for i in range(a)],int)\n",
    "print(numpy.transpose(arr))\n",
    "print(arr.flatten())"
   ]
  },
  {
   "cell_type": "code",
   "execution_count": null,
   "metadata": {},
   "outputs": [],
   "source": [
    "#Question4"
   ]
  },
  {
   "cell_type": "code",
   "execution_count": null,
   "metadata": {},
   "outputs": [],
   "source": [
    "m,n,p=map(int,input().split())\n",
    "arr_1=numpy.array([input().split() for i in range(m)],int)\n",
    "arr_2=numpy.array([input().split() for i in range(n)],int)\n",
    "arr_3=numpy.concatenate((arr_1,arr_2),axis=0)\n",
    "print(arr_3)"
   ]
  },
  {
   "cell_type": "code",
   "execution_count": null,
   "metadata": {},
   "outputs": [],
   "source": [
    "#Question5"
   ]
  },
  {
   "cell_type": "code",
   "execution_count": null,
   "metadata": {},
   "outputs": [],
   "source": [
    "l=list(map(int,input().split()))\n",
    "arr_0=numpy.zeros(l,dtype = numpy.int)\n",
    "arr_1=numpy.ones(l,dtype = numpy.int)\n",
    "print(arr_0)\n",
    "print(arr_1)"
   ]
  },
  {
   "cell_type": "code",
   "execution_count": null,
   "metadata": {},
   "outputs": [],
   "source": [
    "#Question6"
   ]
  },
  {
   "cell_type": "code",
   "execution_count": null,
   "metadata": {},
   "outputs": [],
   "source": [
    "numpy.set_printoptions(legacy='1.13')\n",
    "a,b = map(int,input().split())\n",
    "print(numpy.eye(a,b,k = 0))"
   ]
  },
  {
   "cell_type": "code",
   "execution_count": null,
   "metadata": {},
   "outputs": [],
   "source": [
    "#Question7"
   ]
  },
  {
   "cell_type": "code",
   "execution_count": null,
   "metadata": {},
   "outputs": [],
   "source": [
    "import numpy \n",
    "\n",
    "m,n=map(int,input().split())\n",
    "arr1=numpy.array([list(map(int,input().split())) for i in range(m)],int)\n",
    "arr2=numpy.array([list(map(int,input().split())) for i in range(m)],int)\n",
    "print(numpy.add(arr1,arr2))\n",
    "print(numpy.subtract(arr1,arr2))\n",
    "print(numpy.multiply(arr1,arr2))\n",
    "print(numpy.floor_divide(arr1,arr2))\n",
    "print(numpy.mod(arr1,arr2)) \n",
    "print(numpy.power(arr1,arr2))"
   ]
  },
  {
   "cell_type": "code",
   "execution_count": null,
   "metadata": {},
   "outputs": [],
   "source": [
    "#Question8"
   ]
  },
  {
   "cell_type": "code",
   "execution_count": null,
   "metadata": {},
   "outputs": [],
   "source": [
    "numpy.set_printoptions(legacy='1.13')\n",
    "arr1=numpy.array(input().split(),float)\n",
    "floor=numpy.floor(arr1)\n",
    "ceil=numpy.ceil(arr1)\n",
    "rint=numpy.rint(arr1)\n",
    "print(floor)\n",
    "print(ceil)\n",
    "print(rint)"
   ]
  },
  {
   "cell_type": "code",
   "execution_count": null,
   "metadata": {},
   "outputs": [],
   "source": [
    "#Question9"
   ]
  },
  {
   "cell_type": "code",
   "execution_count": null,
   "metadata": {},
   "outputs": [],
   "source": [
    "m,n=map(int,input().split())\n",
    "arr1=numpy.array([list(map(int,input().split())) for i in range(m)],int)\n",
    "arr2=numpy.sum(arr1,axis=0)\n",
    "arr3=numpy.prod(arr2)\n",
    "print(arr3)"
   ]
  },
  {
   "cell_type": "code",
   "execution_count": null,
   "metadata": {},
   "outputs": [],
   "source": [
    "#Question10"
   ]
  },
  {
   "cell_type": "code",
   "execution_count": null,
   "metadata": {},
   "outputs": [],
   "source": [
    "a,b=map(int,input().split())\n",
    "arr1=numpy.array([list(map(int,input().split())) for i in range(a)],int)\n",
    "arr2=numpy.min(arr1,axis=1)\n",
    "arr3=numpy.max(arr2)\n",
    "print(arr3)"
   ]
  },
  {
   "cell_type": "code",
   "execution_count": null,
   "metadata": {},
   "outputs": [],
   "source": [
    "#Question11"
   ]
  },
  {
   "cell_type": "code",
   "execution_count": null,
   "metadata": {},
   "outputs": [],
   "source": [
    "a,b = map(int, input().split())\n",
    "\n",
    "arr = numpy.array([ input().split() for _ in range(a)], int)\n",
    "\n",
    "mean=numpy.mean(arr, axis = 1)\n",
    "var=numpy.var(arr, axis = 0)\n",
    "std=round(numpy.std(arr, axis = None),11)\n",
    "print(mean)\n",
    "print(var)\n",
    "print(std)"
   ]
  },
  {
   "cell_type": "code",
   "execution_count": null,
   "metadata": {},
   "outputs": [],
   "source": [
    "#Question12"
   ]
  },
  {
   "cell_type": "code",
   "execution_count": null,
   "metadata": {},
   "outputs": [],
   "source": [
    "a=int(input())\n",
    "arr1=numpy.array([list(map(int,input().split())) for i in range(a)],int)\n",
    "arr2=numpy.array([list(map(int,input().split())) for i in range(a)],int)\n",
    "arr3=numpy.dot(arr1,arr2)\n",
    "print(arr3)"
   ]
  },
  {
   "cell_type": "code",
   "execution_count": null,
   "metadata": {},
   "outputs": [],
   "source": [
    "#Question13"
   ]
  },
  {
   "cell_type": "code",
   "execution_count": null,
   "metadata": {},
   "outputs": [],
   "source": [
    "arr1=numpy.array(input().split(),int)\n",
    "arr2=numpy.array(input().split(),int)\n",
    "arr3=numpy.inner(arr1,arr2)\n",
    "arr4=numpy.outer(arr1,arr2)\n",
    "print(arr3)\n",
    "print(arr4)"
   ]
  },
  {
   "cell_type": "code",
   "execution_count": null,
   "metadata": {},
   "outputs": [],
   "source": [
    "#Question14"
   ]
  },
  {
   "cell_type": "code",
   "execution_count": null,
   "metadata": {},
   "outputs": [],
   "source": [
    "n = list(map(float, input().split()))\n",
    "res=numpy.polyval(n, float(input()))\n",
    "print(res)"
   ]
  },
  {
   "cell_type": "code",
   "execution_count": null,
   "metadata": {},
   "outputs": [],
   "source": [
    "#Question15"
   ]
  },
  {
   "cell_type": "code",
   "execution_count": null,
   "metadata": {},
   "outputs": [],
   "source": [
    "numpy.set_printoptions(legacy='1.13')\n",
    "a=int(input())\n",
    "arr=numpy.array([input().split() for i in range(a)],float)\n",
    "res=round(numpy.linalg.det(arr),2)\n",
    "print(res)"
   ]
  }
 ],
 "metadata": {
  "kernelspec": {
   "display_name": "Python 3",
   "language": "python",
   "name": "python3"
  },
  "language_info": {
   "codemirror_mode": {
    "name": "ipython",
    "version": 3
   },
   "file_extension": ".py",
   "mimetype": "text/x-python",
   "name": "python",
   "nbconvert_exporter": "python",
   "pygments_lexer": "ipython3",
   "version": "3.7.6"
  }
 },
 "nbformat": 4,
 "nbformat_minor": 4
}
