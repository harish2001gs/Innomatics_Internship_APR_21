{
 "cells": [
  {
   "cell_type": "code",
   "execution_count": 2,
   "metadata": {},
   "outputs": [],
   "source": [
    "import math"
   ]
  },
  {
   "cell_type": "code",
   "execution_count": null,
   "metadata": {},
   "outputs": [],
   "source": [
    "#Question1:"
   ]
  },
  {
   "cell_type": "code",
   "execution_count": 3,
   "metadata": {},
   "outputs": [
    {
     "name": "stdout",
     "output_type": "stream",
     "text": [
      "0.696\n"
     ]
    }
   ],
   "source": [
    "def binomial_dist(n, r, p):\n",
    "    prob = (math.factorial(n)/(math.factorial(r)*math.factorial(n-r)))*(p**r)*((1-p)**(n-r))\n",
    "    return(prob)\n",
    "\n",
    "b, p, n = 0, 1.09/2.09, 6\n",
    "\n",
    "for i in range(3,7):\n",
    "    b += binomial_dist(n,i,p)   \n",
    "print(\"%.3f\" %b)"
   ]
  },
  {
   "cell_type": "code",
   "execution_count": null,
   "metadata": {},
   "outputs": [],
   "source": [
    "#Question2:"
   ]
  },
  {
   "cell_type": "code",
   "execution_count": 4,
   "metadata": {},
   "outputs": [
    {
     "name": "stdout",
     "output_type": "stream",
     "text": [
      "0.891\n",
      "0.342\n"
     ]
    }
   ],
   "source": [
    "def bin_dist1(n,p,r):\n",
    "    res=(math.factorial(n)/(math.factorial(n-r)*math.factorial(r)))*(p**r)*((1-p)**(n-r))\n",
    "    return(res)\n",
    "a,b,p,n=0,0,12/100,10\n",
    "for i in range(0,3):\n",
    "  a+=bin_dist1(n,p,i)\n",
    "print(\"%.3f\" %a)\n",
    "for i in range(2,11):\n",
    "  b+=bin_dist1(n,p,i)\n",
    "print(\"%.3f\" %b)"
   ]
  },
  {
   "cell_type": "code",
   "execution_count": null,
   "metadata": {},
   "outputs": [],
   "source": [
    "#Question3:"
   ]
  },
  {
   "cell_type": "code",
   "execution_count": 5,
   "metadata": {},
   "outputs": [
    {
     "name": "stdout",
     "output_type": "stream",
     "text": [
      "0.401\n",
      "0.341\n"
     ]
    }
   ],
   "source": [
    "mean = 20\n",
    "std = 2\n",
    "\n",
    "def norm_dist(x, mean, std):\n",
    "    return 1/2*(1+math.erf((x-mean) / std / 2**(1/2)))\n",
    "\n",
    "print(round(norm_dist(19.5, mean, std), 3))\n",
    "print(round(norm_dist(22, mean, std) - norm_dist(20, mean, std), 3))"
   ]
  },
  {
   "cell_type": "code",
   "execution_count": null,
   "metadata": {},
   "outputs": [],
   "source": [
    "#Question4:"
   ]
  },
  {
   "cell_type": "code",
   "execution_count": 6,
   "metadata": {},
   "outputs": [
    {
     "name": "stdout",
     "output_type": "stream",
     "text": [
      "20 \n",
      "10\n",
      "0.0\n",
      "0.0\n",
      "100.0\n"
     ]
    }
   ],
   "source": [
    "m=int(input())\n",
    "s=int(input())\n",
    "\n",
    "def norm_dist(x,mean,std):\n",
    "    return 1/2*(1+math.erf((x-mean) / std / 2**(1/2)))\n",
    "\n",
    "print(round((1-norm_dist(80,m,s))*100,2))\n",
    "print(round((1-norm_dist(60,m,s))*100,2))\n",
    "print(round(norm_dist(60,m,s)*100,2))"
   ]
  },
  {
   "cell_type": "code",
   "execution_count": null,
   "metadata": {},
   "outputs": [],
   "source": [
    "#Question5:"
   ]
  },
  {
   "cell_type": "code",
   "execution_count": null,
   "metadata": {},
   "outputs": [],
   "source": [
    "x = int(input())\n",
    "n = int(input())\n",
    "mean= int(input())\n",
    "std = int(input())\n",
    "\n",
    "sum_mean = n * mean\n",
    "sum_std = math.sqrt(n) * std\n",
    "\n",
    "def norm_dist(x, m, s):\n",
    "    return 1/2*(1+math.erf((x-m) / s / math.sqrt(2)))\n",
    "\n",
    "print(round(norm_dist(x, sum_mean, sum_std), 4))"
   ]
  },
  {
   "cell_type": "code",
   "execution_count": null,
   "metadata": {},
   "outputs": [],
   "source": [
    "#Question6:"
   ]
  },
  {
   "cell_type": "code",
   "execution_count": null,
   "metadata": {},
   "outputs": [],
   "source": [
    "x = int(input())\n",
    "n = int(input())\n",
    "sampling_mean = float(input())\n",
    "sampling_stdev = float(input())\n",
    "mean=sampling_mean * n\n",
    "std = sampling_stdev * math.sqrt(n)\n",
    "\n",
    "clt = 0.5 * (1 + math.erf((x -mean) / std / math.sqrt(2)))\n",
    "print(round(clt,4))"
   ]
  },
  {
   "cell_type": "code",
   "execution_count": null,
   "metadata": {},
   "outputs": [],
   "source": [
    "#Question7:"
   ]
  },
  {
   "cell_type": "code",
   "execution_count": null,
   "metadata": {},
   "outputs": [],
   "source": [
    "from math import sqrt\n",
    "\n",
    "n = int(input())\n",
    "mean = int(input())\n",
    "std = int(input())\n",
    "percent = float(input())\n",
    "z = float(input())\n",
    "print(round(mean - (std / sqrt(n)) * z, 2))\n",
    "print(round(mean + (std / sqrt(n)) * z, 2))"
   ]
  },
  {
   "cell_type": "code",
   "execution_count": null,
   "metadata": {},
   "outputs": [],
   "source": [
    "#Question8:"
   ]
  },
  {
   "cell_type": "code",
   "execution_count": null,
   "metadata": {},
   "outputs": [],
   "source": [
    "n = int(input())\n",
    "x = list(map(float,input().split()))\n",
    "y = list(map(float,input().split()))\n",
    "\n",
    "mean_x = sum(x) / n\n",
    "mean_y = sum(y) / n\n",
    "\n",
    "std_x = (sum([(i - mean_x)**2 for i in x]) / n)**0.5\n",
    "std_y = (sum([(i - mean_y)**2 for i in y]) / n)**0.5\n",
    "\n",
    "\n",
    "covar = sum([(x[i] - mean_x) * (y[i] - mean_y) for i in range(n)])\n",
    "corr = round(covar / (n * std_x * std_y),3)\n",
    "\n",
    "print(corr)"
   ]
  },
  {
   "cell_type": "code",
   "execution_count": null,
   "metadata": {},
   "outputs": [],
   "source": [
    "#Question9:"
   ]
  },
  {
   "cell_type": "code",
   "execution_count": null,
   "metadata": {},
   "outputs": [],
   "source": [
    "maths, stats = [],[]\n",
    "\n",
    "for i in range(5):\n",
    "    m, s= map(int,input().split())\n",
    "    maths.append(m)\n",
    "    stats.append(s)\n",
    "\n",
    "def b_val(x,y):\n",
    "    n = len(x)\n",
    "    xy =[x[i]*y[i] for i in range(n) ]\n",
    "    xx = [i**2 for i in x]\n",
    "    \n",
    "    b = (n*(sum(xy))-((sum(x)*sum(y))))/float(((n*sum(xx))-sum(x)**2))\n",
    "    return b\n",
    "    \n",
    "def ab_val(x,y):\n",
    "    x_mean = sum(x)/float(len(x))    \n",
    "    y_mean = sum(y)/float(len(y))\n",
    "    b = b_val(x,y)\n",
    "    a = y_mean - b*x_mean\n",
    "    return a,b\n",
    "    \n",
    "a,b = ab_val(maths,stats)\n",
    "print(a + b*80)"
   ]
  },
  {
   "cell_type": "code",
   "execution_count": null,
   "metadata": {},
   "outputs": [],
   "source": [
    "#Question10:"
   ]
  },
  {
   "cell_type": "code",
   "execution_count": null,
   "metadata": {},
   "outputs": [],
   "source": [
    "from sklearn import linear_model\n",
    "\n",
    "def linear(x, y, x1):\n",
    "  l = linear_model.LinearRegression()\n",
    "  l.fit(x, y)\n",
    "  y1 = l.predict(x1)\n",
    "  return y1\n",
    "\n",
    "if __name__ == \"__main__\":\n",
    "  m, n = map(int, input().split())\n",
    "  y = []; x = []; x1 = []\n",
    "  for i in range(n):\n",
    "    *coeff, value_y = map(float, input().split())\n",
    "    x.append(coeff)\n",
    "    y.append(value_y)\n",
    "\n",
    "  for i in range(int(input())):\n",
    "    coeff = list(map(float, input().split()))\n",
    "    x1.append(coeff)\n",
    "  \n",
    "  answer = linear(x, y, x1)\n",
    "  for num in answer:\n",
    "    print(round(num, 2))"
   ]
  }
 ],
 "metadata": {
  "kernelspec": {
   "display_name": "Python 3",
   "language": "python",
   "name": "python3"
  },
  "language_info": {
   "codemirror_mode": {
    "name": "ipython",
    "version": 3
   },
   "file_extension": ".py",
   "mimetype": "text/x-python",
   "name": "python",
   "nbconvert_exporter": "python",
   "pygments_lexer": "ipython3",
   "version": "3.7.6"
  }
 },
 "nbformat": 4,
 "nbformat_minor": 4
}
